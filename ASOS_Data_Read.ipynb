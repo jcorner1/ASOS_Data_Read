{
 "cells": [
  {
   "cell_type": "code",
   "execution_count": 1,
   "metadata": {},
   "outputs": [
    {
     "name": "stdout",
     "output_type": "stream",
     "text": [
      "Hi world\n",
      "Hi world\n",
      "Hi world\n",
      "Hi world\n",
      "Hi world\n",
      "Hi world\n",
      "Hi world\n",
      "Hi world\n",
      "Hi world\n",
      "Hi world\n",
      "Hi world\n",
      "Hi world\n",
      "Hi world\n",
      "Hi world\n",
      "Hi world\n",
      "Hi world\n",
      "Hi world\n",
      "Hi world\n",
      "Hi world\n",
      "Hi world\n",
      "Hi world\n",
      "Hi world\n",
      "Hi world\n",
      "Hi world\n",
      "Hi world\n",
      "Hi world\n",
      "Hi world\n",
      "Hi world\n",
      "Hi world\n",
      "Hi world\n",
      "Hi world\n",
      "Hi world\n",
      "Hi world\n"
     ]
    }
   ],
   "source": [
    "for i in range(33):\n",
    "    print('Hi world')"
   ]
  },
  {
   "cell_type": "code",
   "execution_count": 1,
   "metadata": {},
   "outputs": [
    {
     "name": "stdout",
     "output_type": "stream",
     "text": [
      "cool\n"
     ]
    }
   ],
   "source": [
    "w = 12\n",
    "if w > 10:\n",
    "    print('cool')\n",
    "else:\n",
    "    print('noooooo')"
   ]
  },
  {
   "cell_type": "code",
   "execution_count": null,
   "metadata": {},
   "outputs": [],
   "source": []
  }
 ],
 "metadata": {
  "kernelspec": {
   "display_name": "Python 3",
   "language": "python",
   "name": "python3"
  },
  "language_info": {
   "codemirror_mode": {
    "name": "ipython",
    "version": 3
   },
   "file_extension": ".py",
   "mimetype": "text/x-python",
   "name": "python",
   "nbconvert_exporter": "python",
   "pygments_lexer": "ipython3",
   "version": "3.6.5"
  }
 },
 "nbformat": 4,
 "nbformat_minor": 2
}
